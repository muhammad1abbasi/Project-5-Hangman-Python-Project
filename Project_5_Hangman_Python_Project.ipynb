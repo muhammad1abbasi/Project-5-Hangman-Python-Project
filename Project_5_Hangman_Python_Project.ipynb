{
  "nbformat": 4,
  "nbformat_minor": 0,
  "metadata": {
    "colab": {
      "provenance": [],
      "authorship_tag": "ABX9TyPQV9FJA4viCJf4cEMiPvMB",
      "include_colab_link": true
    },
    "kernelspec": {
      "name": "python3",
      "display_name": "Python 3"
    },
    "language_info": {
      "name": "python"
    }
  },
  "cells": [
    {
      "cell_type": "markdown",
      "metadata": {
        "id": "view-in-github",
        "colab_type": "text"
      },
      "source": [
        "<a href=\"https://colab.research.google.com/github/muhammad1abbasi/Project-5-Hangman-Python-Project/blob/main/Project_5_Hangman_Python_Project.ipynb\" target=\"_parent\"><img src=\"https://colab.research.google.com/assets/colab-badge.svg\" alt=\"Open In Colab\"/></a>"
      ]
    },
    {
      "cell_type": "markdown",
      "source": [
        "Project 5: Hangman Python Project"
      ],
      "metadata": {
        "id": "JSBBUKU9KSOH"
      }
    },
    {
      "cell_type": "code",
      "execution_count": null,
      "metadata": {
        "colab": {
          "base_uri": "https://localhost:8080/"
        },
        "id": "CKoKzWPyKDUn",
        "outputId": "38641a27-d0c8-494e-e82e-ba5f993ddcd0"
      },
      "outputs": [
        {
          "output_type": "stream",
          "name": "stdout",
          "text": [
            "Welcome to Hangman!\n",
            "Word: ______\n",
            "Guess a letter: chullu\n",
            "Wrong guess! 5 attempts left.\n",
            "Word: ______\n",
            "Guess a letter: programming\n",
            "Wrong guess! 4 attempts left.\n",
            "Word: ______\n",
            "Guess a letter: hangman\n",
            "Wrong guess! 3 attempts left.\n",
            "Word: ______\n"
          ]
        }
      ],
      "source": [
        "import random\n",
        "\n",
        "def hangman():\n",
        "    words = ['python', 'hangman', 'programming', 'developer', 'computer']\n",
        "    secret_word = random.choice(words)\n",
        "    guessed_letters = []\n",
        "    attempts = 6\n",
        "\n",
        "    print(\"Welcome to Hangman!\")\n",
        "\n",
        "    while attempts > 0:\n",
        "        display_word = \"\".join([letter if letter in guessed_letters else '_' for letter in secret_word])\n",
        "        print(f\"Word: {display_word}\")\n",
        "\n",
        "        if '_' not in display_word:\n",
        "            print(\"Congratulations! You guessed the word!\")\n",
        "            break\n",
        "\n",
        "        guess = input(\"Guess a letter: \").lower()\n",
        "\n",
        "        if guess in guessed_letters:\n",
        "            print(\"You already guessed that letter.\")\n",
        "        elif guess in secret_word:\n",
        "            guessed_letters.append(guess)\n",
        "            print(\"Good guess!\")\n",
        "        else:\n",
        "            attempts -= 1\n",
        "            print(f\"Wrong guess! {attempts} attempts left.\")\n",
        "\n",
        "    if attempts == 0:\n",
        "        print(f\"Game over! The word was: {secret_word}\")\n",
        "\n",
        "if __name__ == \"__main__\":\n",
        "    hangman()\n"
      ]
    }
  ]
}